{
 "cells": [
  {
   "cell_type": "code",
   "execution_count": 0,
   "metadata": {
    "application/vnd.databricks.v1+cell": {
     "cellMetadata": {
      "byteLimit": 2048000,
      "rowLimit": 10000
     },
     "inputWidgets": {},
     "nuid": "c1daa53a-b298-4d05-aa36-556589d88024",
     "showTitle": false,
     "title": ""
    }
   },
   "outputs": [
    {
     "output_type": "stream",
     "name": "stdout",
     "output_type": "stream",
     "text": [
      "Out[4]: <delta.tables.DeltaTable at 0x7f7237eefdf0>"
     ]
    }
   ],
   "source": [
    "from delta.tables import *\n",
    "\n",
    "DeltaTable.createIfNotExists(spark)\\\n",
    "    .tableName(\"employee\") \\\n",
    "    .addColumn(\"emp_id\", \"INT\") \\\n",
    "    .addColumn(\"emp_name\",\"STRING\") \\\n",
    "    .addColumn(\"salary\" , \"INT\") \\\n",
    "    .location(\"/FileStore/tables/delta/table1/table_python\") \\\n",
    "    .execute()"
   ]
  },
  {
   "cell_type": "code",
   "execution_count": 0,
   "metadata": {
    "application/vnd.databricks.v1+cell": {
     "cellMetadata": {
      "byteLimit": 2048000,
      "rowLimit": 10000
     },
     "inputWidgets": {},
     "nuid": "50cb9c4f-cea5-4b95-a7ac-e77f0972ef00",
     "showTitle": false,
     "title": ""
    }
   },
   "outputs": [
    {
     "output_type": "display_data",
     "data": {
      "text/html": [
       "<style scoped>\n",
       "  .table-result-container {\n",
       "    max-height: 300px;\n",
       "    overflow: auto;\n",
       "  }\n",
       "  table, th, td {\n",
       "    border: 1px solid black;\n",
       "    border-collapse: collapse;\n",
       "  }\n",
       "  th, td {\n",
       "    padding: 5px;\n",
       "  }\n",
       "  th {\n",
       "    text-align: left;\n",
       "  }\n",
       "</style><div class='table-result-container'><table class='table-result'><thead style='background-color: white'><tr><th>emp_id</th><th>emp_name</th><th>gender</th><th>salary</th><th>dept</th></tr></thead><tbody><tr><td>100</td><td>Krishna</td><td>M</td><td>12000</td><td>IT</td></tr><tr><td>200</td><td>Kuldeep</td><td>M</td><td>11000</td><td>HR</td></tr><tr><td>300</td><td>Pratibha</td><td>F</td><td>10000</td><td>SALES</td></tr></tbody></table></div>"
      ]
     },
     "metadata": {
      "application/vnd.databricks.v1+output": {
       "addedWidgets": {},
       "aggData": [],
       "aggError": "",
       "aggOverflow": false,
       "aggSchema": [],
       "aggSeriesLimitReached": false,
       "aggType": "",
       "arguments": {},
       "columnCustomDisplayInfos": {},
       "data": [
        [
         100,
         "Krishna",
         "M",
         12000,
         "IT"
        ],
        [
         200,
         "Kuldeep",
         "M",
         11000,
         "HR"
        ],
        [
         300,
         "Pratibha",
         "F",
         10000,
         "SALES"
        ]
       ],
       "datasetInfos": [],
       "dbfsResultPath": null,
       "isJsonSchema": true,
       "metadata": {},
       "overflow": false,
       "plotOptions": {
        "customPlotOptions": {},
        "displayType": "table",
        "pivotAggregation": null,
        "pivotColumns": null,
        "xColumns": null,
        "yColumns": null
       },
       "removedWidgets": [],
       "schema": [
        {
         "metadata": "{}",
         "name": "emp_id",
         "type": "\"long\""
        },
        {
         "metadata": "{}",
         "name": "emp_name",
         "type": "\"string\""
        },
        {
         "metadata": "{}",
         "name": "gender",
         "type": "\"string\""
        },
        {
         "metadata": "{}",
         "name": "salary",
         "type": "\"long\""
        },
        {
         "metadata": "{}",
         "name": "dept",
         "type": "\"string\""
        }
       ],
       "type": "table"
      }
     },
     "output_type": "display_data"
    }
   ],
   "source": [
    "# dataframe method \n",
    "employee_data = [ (100, \"Krishna\", \"M\", 12000, \"IT\") ,\n",
    "                 (200, \"Kuldeep\", \"M\" ,11000,\"HR\") ,\n",
    "                 (300, \"Pratibha\", \"F\", 10000, \"SALES\" )]\n",
    "\n",
    "employee_schema = [\"emp_id\", \"emp_name\", \"gender\", \"salary\", \"dept\" ]\n",
    "\n",
    "df = spark.createDataFrame(data=employee_data,schema = employee_schema)\n",
    "display (df)\n",
    "\n",
    "df.createOrReplaceTempView('df_table')\n",
    "spark.sql(\"create table IF NOT EXISTS employee using delta select * from df_table\")\n",
    "\n",
    "df.write.format(\"delta\").option(\"path\", \"/delta/table1\").saveAsTable(\"employee_demo\")"
   ]
  }
 ],
 "metadata": {
  "application/vnd.databricks.v1+notebook": {
   "dashboards": [],
   "language": "python",
   "notebookMetadata": {
    "mostRecentlyExecutedCommandWithImplicitDF": {
     "commandId": 3252084367710554,
     "dataframes": [
      "_sqldf"
     ]
    },
    "pythonIndentUnit": 4
   },
   "notebookName": "delta_table_python",
   "widgets": {}
  }
 },
 "nbformat": 4,
 "nbformat_minor": 0
}
