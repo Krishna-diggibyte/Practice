{
 "cells": [
  {
   "cell_type": "code",
   "execution_count": 0,
   "metadata": {
    "application/vnd.databricks.v1+cell": {
     "cellMetadata": {
      "byteLimit": 2048000,
      "rowLimit": 10000
     },
     "inputWidgets": {},
     "nuid": "0cb245c9-4d65-42ee-80e9-de908ab1244e",
     "showTitle": false,
     "title": ""
    }
   },
   "outputs": [
    {
     "output_type": "display_data",
     "data": {
      "text/html": [
       "<style scoped>\n",
       "  .table-result-container {\n",
       "    max-height: 300px;\n",
       "    overflow: auto;\n",
       "  }\n",
       "  table, th, td {\n",
       "    border: 1px solid black;\n",
       "    border-collapse: collapse;\n",
       "  }\n",
       "  th, td {\n",
       "    padding: 5px;\n",
       "  }\n",
       "  th {\n",
       "    text-align: left;\n",
       "  }\n",
       "</style><div class='table-result-container'><table class='table-result'><thead style='background-color: white'><tr><th>employees</th><th>id</th><th>properties</th></tr></thead><tbody><tr><td>List(List(1001, Divesh), List(1002, Rajesh), List(1003, David))</td><td>1001</td><td>List(ABC Pvt Ltd, Medium)</td></tr></tbody></table></div>"
      ]
     },
     "metadata": {
      "application/vnd.databricks.v1+output": {
       "addedWidgets": {},
       "aggData": [],
       "aggError": "",
       "aggOverflow": false,
       "aggSchema": [],
       "aggSeriesLimitReached": false,
       "aggType": "",
       "arguments": {},
       "columnCustomDisplayInfos": {},
       "data": [
        [
         [
          [
           1001,
           "Divesh"
          ],
          [
           1002,
           "Rajesh"
          ],
          [
           1003,
           "David"
          ]
         ],
         1001,
         [
          "ABC Pvt Ltd",
          "Medium"
         ]
        ]
       ],
       "datasetInfos": [],
       "dbfsResultPath": null,
       "isJsonSchema": true,
       "metadata": {},
       "overflow": false,
       "plotOptions": {
        "customPlotOptions": {},
        "displayType": "table",
        "pivotAggregation": null,
        "pivotColumns": null,
        "xColumns": null,
        "yColumns": null
       },
       "removedWidgets": [],
       "schema": [
        {
         "metadata": "{}",
         "name": "employees",
         "type": "{\"type\":\"array\",\"elementType\":{\"type\":\"struct\",\"fields\":[{\"name\":\"empId\",\"type\":\"long\",\"nullable\":true,\"metadata\":{}},{\"name\":\"empName\",\"type\":\"string\",\"nullable\":true,\"metadata\":{}}]},\"containsNull\":true}"
        },
        {
         "metadata": "{}",
         "name": "id",
         "type": "\"long\""
        },
        {
         "metadata": "{}",
         "name": "properties",
         "type": "{\"type\":\"struct\",\"fields\":[{\"name\":\"name\",\"type\":\"string\",\"nullable\":true,\"metadata\":{}},{\"name\":\"storeSize\",\"type\":\"string\",\"nullable\":true,\"metadata\":{}}]}"
        }
       ],
       "type": "table"
      }
     },
     "output_type": "display_data"
    }
   ],
   "source": [
    "# read json file\n",
    "json_path = \"dbfs:/FileStore/resource/sample_json_3.json\"\n",
    "json_df = spark.read.format(\"json\").option(\"multiline\", \"true\").load(json_path)\n",
    "display(json_df)"
   ]
  },
  {
   "cell_type": "code",
   "execution_count": 0,
   "metadata": {
    "application/vnd.databricks.v1+cell": {
     "cellMetadata": {
      "byteLimit": 2048000,
      "rowLimit": 10000
     },
     "inputWidgets": {},
     "nuid": "49ae698f-dbfb-4ceb-8eae-6ae84f6ab927",
     "showTitle": false,
     "title": ""
    }
   },
   "outputs": [
    {
     "output_type": "display_data",
     "data": {
      "text/html": [
       "<style scoped>\n",
       "  .table-result-container {\n",
       "    max-height: 300px;\n",
       "    overflow: auto;\n",
       "  }\n",
       "  table, th, td {\n",
       "    border: 1px solid black;\n",
       "    border-collapse: collapse;\n",
       "  }\n",
       "  th, td {\n",
       "    padding: 5px;\n",
       "  }\n",
       "  th {\n",
       "    text-align: left;\n",
       "  }\n",
       "</style><div class='table-result-container'><table class='table-result'><thead style='background-color: white'><tr><th>employees</th><th>id</th><th>properties</th></tr></thead><tbody><tr><td>List(List(1001, Divesh), List(1002, Rajesh), List(1003, David))</td><td>1001</td><td>List(ABC Pvt Ltd, Medium)</td></tr></tbody></table></div>"
      ]
     },
     "metadata": {
      "application/vnd.databricks.v1+output": {
       "addedWidgets": {},
       "aggData": [],
       "aggError": "",
       "aggOverflow": false,
       "aggSchema": [],
       "aggSeriesLimitReached": false,
       "aggType": "",
       "arguments": {},
       "columnCustomDisplayInfos": {},
       "data": [
        [
         [
          [
           1001,
           "Divesh"
          ],
          [
           1002,
           "Rajesh"
          ],
          [
           1003,
           "David"
          ]
         ],
         1001,
         [
          "ABC Pvt Ltd",
          "Medium"
         ]
        ]
       ],
       "datasetInfos": [],
       "dbfsResultPath": null,
       "isJsonSchema": true,
       "metadata": {},
       "overflow": false,
       "plotOptions": {
        "customPlotOptions": {},
        "displayType": "table",
        "pivotAggregation": null,
        "pivotColumns": null,
        "xColumns": null,
        "yColumns": null
       },
       "removedWidgets": [],
       "schema": [
        {
         "metadata": "{}",
         "name": "employees",
         "type": "{\"type\":\"array\",\"elementType\":{\"type\":\"struct\",\"fields\":[{\"name\":\"empId\",\"type\":\"long\",\"nullable\":true,\"metadata\":{}},{\"name\":\"empName\",\"type\":\"string\",\"nullable\":true,\"metadata\":{}}]},\"containsNull\":true}"
        },
        {
         "metadata": "{}",
         "name": "id",
         "type": "\"long\""
        },
        {
         "metadata": "{}",
         "name": "properties",
         "type": "{\"type\":\"struct\",\"fields\":[{\"name\":\"name\",\"type\":\"string\",\"nullable\":true,\"metadata\":{}},{\"name\":\"storeSize\",\"type\":\"string\",\"nullable\":true,\"metadata\":{}}]}"
        }
       ],
       "type": "table"
      }
     },
     "output_type": "display_data"
    }
   ],
   "source": [
    "# read json\n",
    "json_read_df = spark.read.json(\"dbfs:/FileStore/resource/sample_json_3.json\",multiLine='True')\n",
    "json_read_df.display()"
   ]
  },
  {
   "cell_type": "code",
   "execution_count": 0,
   "metadata": {
    "application/vnd.databricks.v1+cell": {
     "cellMetadata": {
      "byteLimit": 2048000,
      "rowLimit": 10000
     },
     "inputWidgets": {},
     "nuid": "4058f001-b1ea-4f68-9e16-4be679e4f1ef",
     "showTitle": false,
     "title": ""
    }
   },
   "outputs": [
    {
     "output_type": "display_data",
     "data": {
      "text/html": [
       "<style scoped>\n",
       "  .table-result-container {\n",
       "    max-height: 300px;\n",
       "    overflow: auto;\n",
       "  }\n",
       "  table, th, td {\n",
       "    border: 1px solid black;\n",
       "    border-collapse: collapse;\n",
       "  }\n",
       "  th, td {\n",
       "    padding: 5px;\n",
       "  }\n",
       "  th {\n",
       "    text-align: left;\n",
       "  }\n",
       "</style><div class='table-result-container'><table class='table-result'><thead style='background-color: white'><tr><th>path</th><th>name</th><th>size</th><th>modificationTime</th></tr></thead><tbody><tr><td>dbfs:/FileStore/my_data/sample_data.json/_SUCCESS</td><td>_SUCCESS</td><td>0</td><td>1712935072000</td></tr><tr><td>dbfs:/FileStore/my_data/sample_data.json/_committed_2183897679572994217</td><td>_committed_2183897679572994217</td><td>113</td><td>1712935072000</td></tr><tr><td>dbfs:/FileStore/my_data/sample_data.json/_started_2183897679572994217</td><td>_started_2183897679572994217</td><td>0</td><td>1712935072000</td></tr><tr><td>dbfs:/FileStore/my_data/sample_data.json/part-00000-tid-2183897679572994217-5c55073c-52dd-4d81-8131-6036a35371ba-63-1-c000.json</td><td>part-00000-tid-2183897679572994217-5c55073c-52dd-4d81-8131-6036a35371ba-63-1-c000.json</td><td>184</td><td>1712935072000</td></tr></tbody></table></div>"
      ]
     },
     "metadata": {
      "application/vnd.databricks.v1+output": {
       "addedWidgets": {},
       "aggData": [],
       "aggError": "",
       "aggOverflow": false,
       "aggSchema": [],
       "aggSeriesLimitReached": false,
       "aggType": "",
       "arguments": {},
       "columnCustomDisplayInfos": {},
       "data": [
        [
         "dbfs:/FileStore/my_data/sample_data.json/_SUCCESS",
         "_SUCCESS",
         0,
         1712935072000
        ],
        [
         "dbfs:/FileStore/my_data/sample_data.json/_committed_2183897679572994217",
         "_committed_2183897679572994217",
         113,
         1712935072000
        ],
        [
         "dbfs:/FileStore/my_data/sample_data.json/_started_2183897679572994217",
         "_started_2183897679572994217",
         0,
         1712935072000
        ],
        [
         "dbfs:/FileStore/my_data/sample_data.json/part-00000-tid-2183897679572994217-5c55073c-52dd-4d81-8131-6036a35371ba-63-1-c000.json",
         "part-00000-tid-2183897679572994217-5c55073c-52dd-4d81-8131-6036a35371ba-63-1-c000.json",
         184,
         1712935072000
        ]
       ],
       "datasetInfos": [],
       "dbfsResultPath": null,
       "isJsonSchema": true,
       "metadata": {},
       "overflow": false,
       "plotOptions": {
        "customPlotOptions": {},
        "displayType": "table",
        "pivotAggregation": null,
        "pivotColumns": null,
        "xColumns": null,
        "yColumns": null
       },
       "removedWidgets": [],
       "schema": [
        {
         "metadata": "{}",
         "name": "path",
         "type": "\"string\""
        },
        {
         "metadata": "{}",
         "name": "name",
         "type": "\"string\""
        },
        {
         "metadata": "{}",
         "name": "size",
         "type": "\"long\""
        },
        {
         "metadata": "{}",
         "name": "modificationTime",
         "type": "\"long\""
        }
       ],
       "type": "table"
      }
     },
     "output_type": "display_data"
    }
   ],
   "source": [
    "json_df.write.format(\"json\").save('FileStore/my_data/sample_data.json')\n",
    "display(dbutils.fs.ls('FileStore/my_data/sample_data.json'))"
   ]
  },
  {
   "cell_type": "code",
   "execution_count": 0,
   "metadata": {
    "application/vnd.databricks.v1+cell": {
     "cellMetadata": {
      "byteLimit": 2048000,
      "rowLimit": 10000
     },
     "inputWidgets": {},
     "nuid": "079411c8-9721-461d-9405-30b2c1d6658c",
     "showTitle": false,
     "title": ""
    }
   },
   "outputs": [
    {
     "output_type": "display_data",
     "data": {
      "text/html": [
       "<style scoped>\n",
       "  .table-result-container {\n",
       "    max-height: 300px;\n",
       "    overflow: auto;\n",
       "  }\n",
       "  table, th, td {\n",
       "    border: 1px solid black;\n",
       "    border-collapse: collapse;\n",
       "  }\n",
       "  th, td {\n",
       "    padding: 5px;\n",
       "  }\n",
       "  th {\n",
       "    text-align: left;\n",
       "  }\n",
       "</style><div class='table-result-container'><table class='table-result'><thead style='background-color: white'><tr><th>path</th><th>name</th><th>size</th><th>modificationTime</th></tr></thead><tbody><tr><td>dbfs:/FileStore/my_data/json_single_file/_SUCCESS</td><td>_SUCCESS</td><td>0</td><td>1712935120000</td></tr><tr><td>dbfs:/FileStore/my_data/json_single_file/_committed_6258613144632505608</td><td>_committed_6258613144632505608</td><td>113</td><td>1712935120000</td></tr><tr><td>dbfs:/FileStore/my_data/json_single_file/_started_6258613144632505608</td><td>_started_6258613144632505608</td><td>0</td><td>1712935119000</td></tr><tr><td>dbfs:/FileStore/my_data/json_single_file/part-00000-tid-6258613144632505608-06ad0283-e568-4357-b368-852d9f07e43b-72-1-c000.json</td><td>part-00000-tid-6258613144632505608-06ad0283-e568-4357-b368-852d9f07e43b-72-1-c000.json</td><td>184</td><td>1712935120000</td></tr></tbody></table></div>"
      ]
     },
     "metadata": {
      "application/vnd.databricks.v1+output": {
       "addedWidgets": {},
       "aggData": [],
       "aggError": "",
       "aggOverflow": false,
       "aggSchema": [],
       "aggSeriesLimitReached": false,
       "aggType": "",
       "arguments": {},
       "columnCustomDisplayInfos": {},
       "data": [
        [
         "dbfs:/FileStore/my_data/json_single_file/_SUCCESS",
         "_SUCCESS",
         0,
         1712935120000
        ],
        [
         "dbfs:/FileStore/my_data/json_single_file/_committed_6258613144632505608",
         "_committed_6258613144632505608",
         113,
         1712935120000
        ],
        [
         "dbfs:/FileStore/my_data/json_single_file/_started_6258613144632505608",
         "_started_6258613144632505608",
         0,
         1712935119000
        ],
        [
         "dbfs:/FileStore/my_data/json_single_file/part-00000-tid-6258613144632505608-06ad0283-e568-4357-b368-852d9f07e43b-72-1-c000.json",
         "part-00000-tid-6258613144632505608-06ad0283-e568-4357-b368-852d9f07e43b-72-1-c000.json",
         184,
         1712935120000
        ]
       ],
       "datasetInfos": [],
       "dbfsResultPath": null,
       "isJsonSchema": true,
       "metadata": {},
       "overflow": false,
       "plotOptions": {
        "customPlotOptions": {},
        "displayType": "table",
        "pivotAggregation": null,
        "pivotColumns": null,
        "xColumns": null,
        "yColumns": null
       },
       "removedWidgets": [],
       "schema": [
        {
         "metadata": "{}",
         "name": "path",
         "type": "\"string\""
        },
        {
         "metadata": "{}",
         "name": "name",
         "type": "\"string\""
        },
        {
         "metadata": "{}",
         "name": "size",
         "type": "\"long\""
        },
        {
         "metadata": "{}",
         "name": "modificationTime",
         "type": "\"long\""
        }
       ],
       "type": "table"
      }
     },
     "output_type": "display_data"
    }
   ],
   "source": [
    "# write json\n",
    "json_df.coalesce(1).write.format(\"json\").save('FileStore/my_data/json_single_file')\n",
    "display(dbutils.fs.ls(\"FileStore/my_data/json_single_file\"))"
   ]
  }
 ],
 "metadata": {
  "application/vnd.databricks.v1+notebook": {
   "dashboards": [],
   "language": "python",
   "notebookMetadata": {
    "pythonIndentUnit": 4
   },
   "notebookName": "read_write _json",
   "widgets": {}
  }
 },
 "nbformat": 4,
 "nbformat_minor": 0
}
