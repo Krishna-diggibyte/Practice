{
 "cells": [
  {
   "cell_type": "code",
   "execution_count": 0,
   "metadata": {
    "application/vnd.databricks.v1+cell": {
     "cellMetadata": {
      "byteLimit": 2048000,
      "rowLimit": 10000
     },
     "inputWidgets": {},
     "nuid": "8e815a87-d6da-4dfd-9685-3201e8cc6939",
     "showTitle": false,
     "title": ""
    }
   },
   "outputs": [
    {
     "output_type": "stream",
     "name": "stdout",
     "output_type": "stream",
     "text": [
      "+-------+---+\n|   name|age|\n+-------+---+\n|Krishna| 23|\n|basheer| 24|\n|kuldeep| 25|\n+-------+---+\n\n"
     ]
    }
   ],
   "source": [
    "# create a dataframe\n",
    "df = spark.createDataFrame([('Krishna', 23),('basheer', 24), ('kuldeep', 25)], [\"name\",'age'])\n",
    "df.show()"
   ]
  },
  {
   "cell_type": "code",
   "execution_count": 0,
   "metadata": {
    "application/vnd.databricks.v1+cell": {
     "cellMetadata": {
      "byteLimit": 2048000,
      "rowLimit": 10000
     },
     "inputWidgets": {},
     "nuid": "12d905f0-2153-43f8-8462-7d5b5d8bb2ed",
     "showTitle": false,
     "title": ""
    }
   },
   "outputs": [
    {
     "output_type": "display_data",
     "data": {
      "text/html": [
       "<style scoped>\n",
       "  .table-result-container {\n",
       "    max-height: 300px;\n",
       "    overflow: auto;\n",
       "  }\n",
       "  table, th, td {\n",
       "    border: 1px solid black;\n",
       "    border-collapse: collapse;\n",
       "  }\n",
       "  th, td {\n",
       "    padding: 5px;\n",
       "  }\n",
       "  th {\n",
       "    text-align: left;\n",
       "  }\n",
       "</style><div class='table-result-container'><table class='table-result'><thead style='background-color: white'><tr><th>path</th><th>name</th><th>size</th><th>modificationTime</th></tr></thead><tbody><tr><td>dbfs:/FileStore/my_data/inventory.csv/_SUCCESS</td><td>_SUCCESS</td><td>0</td><td>1712934352000</td></tr><tr><td>dbfs:/FileStore/my_data/inventory.csv/_committed_6404281547413791083</td><td>_committed_6404281547413791083</td><td>376</td><td>1712934352000</td></tr><tr><td>dbfs:/FileStore/my_data/inventory.csv/_started_6404281547413791083</td><td>_started_6404281547413791083</td><td>0</td><td>1712934351000</td></tr><tr><td>dbfs:/FileStore/my_data/inventory.csv/part-00000-tid-6404281547413791083-a8de1452-ecbb-4b15-8a9d-88bc846e05a7-12-1-c000.csv</td><td>part-00000-tid-6404281547413791083-a8de1452-ecbb-4b15-8a9d-88bc846e05a7-12-1-c000.csv</td><td>0</td><td>1712934351000</td></tr><tr><td>dbfs:/FileStore/my_data/inventory.csv/part-00002-tid-6404281547413791083-a8de1452-ecbb-4b15-8a9d-88bc846e05a7-14-1-c000.csv</td><td>part-00002-tid-6404281547413791083-a8de1452-ecbb-4b15-8a9d-88bc846e05a7-14-1-c000.csv</td><td>11</td><td>1712934352000</td></tr><tr><td>dbfs:/FileStore/my_data/inventory.csv/part-00005-tid-6404281547413791083-a8de1452-ecbb-4b15-8a9d-88bc846e05a7-17-1-c000.csv</td><td>part-00005-tid-6404281547413791083-a8de1452-ecbb-4b15-8a9d-88bc846e05a7-17-1-c000.csv</td><td>11</td><td>1712934352000</td></tr><tr><td>dbfs:/FileStore/my_data/inventory.csv/part-00007-tid-6404281547413791083-a8de1452-ecbb-4b15-8a9d-88bc846e05a7-19-1-c000.csv</td><td>part-00007-tid-6404281547413791083-a8de1452-ecbb-4b15-8a9d-88bc846e05a7-19-1-c000.csv</td><td>11</td><td>1712934352000</td></tr></tbody></table></div>"
      ]
     },
     "metadata": {
      "application/vnd.databricks.v1+output": {
       "addedWidgets": {},
       "aggData": [],
       "aggError": "",
       "aggOverflow": false,
       "aggSchema": [],
       "aggSeriesLimitReached": false,
       "aggType": "",
       "arguments": {},
       "columnCustomDisplayInfos": {},
       "data": [
        [
         "dbfs:/FileStore/my_data/inventory.csv/_SUCCESS",
         "_SUCCESS",
         0,
         1712934352000
        ],
        [
         "dbfs:/FileStore/my_data/inventory.csv/_committed_6404281547413791083",
         "_committed_6404281547413791083",
         376,
         1712934352000
        ],
        [
         "dbfs:/FileStore/my_data/inventory.csv/_started_6404281547413791083",
         "_started_6404281547413791083",
         0,
         1712934351000
        ],
        [
         "dbfs:/FileStore/my_data/inventory.csv/part-00000-tid-6404281547413791083-a8de1452-ecbb-4b15-8a9d-88bc846e05a7-12-1-c000.csv",
         "part-00000-tid-6404281547413791083-a8de1452-ecbb-4b15-8a9d-88bc846e05a7-12-1-c000.csv",
         0,
         1712934351000
        ],
        [
         "dbfs:/FileStore/my_data/inventory.csv/part-00002-tid-6404281547413791083-a8de1452-ecbb-4b15-8a9d-88bc846e05a7-14-1-c000.csv",
         "part-00002-tid-6404281547413791083-a8de1452-ecbb-4b15-8a9d-88bc846e05a7-14-1-c000.csv",
         11,
         1712934352000
        ],
        [
         "dbfs:/FileStore/my_data/inventory.csv/part-00005-tid-6404281547413791083-a8de1452-ecbb-4b15-8a9d-88bc846e05a7-17-1-c000.csv",
         "part-00005-tid-6404281547413791083-a8de1452-ecbb-4b15-8a9d-88bc846e05a7-17-1-c000.csv",
         11,
         1712934352000
        ],
        [
         "dbfs:/FileStore/my_data/inventory.csv/part-00007-tid-6404281547413791083-a8de1452-ecbb-4b15-8a9d-88bc846e05a7-19-1-c000.csv",
         "part-00007-tid-6404281547413791083-a8de1452-ecbb-4b15-8a9d-88bc846e05a7-19-1-c000.csv",
         11,
         1712934352000
        ]
       ],
       "datasetInfos": [],
       "dbfsResultPath": null,
       "isJsonSchema": true,
       "metadata": {},
       "overflow": false,
       "plotOptions": {
        "customPlotOptions": {},
        "displayType": "table",
        "pivotAggregation": null,
        "pivotColumns": null,
        "xColumns": null,
        "yColumns": null
       },
       "removedWidgets": [],
       "schema": [
        {
         "metadata": "{}",
         "name": "path",
         "type": "\"string\""
        },
        {
         "metadata": "{}",
         "name": "name",
         "type": "\"string\""
        },
        {
         "metadata": "{}",
         "name": "size",
         "type": "\"long\""
        },
        {
         "metadata": "{}",
         "name": "modificationTime",
         "type": "\"long\""
        }
       ],
       "type": "table"
      }
     },
     "output_type": "display_data"
    }
   ],
   "source": [
    "# write to csv file\n",
    "df.write.format(\"csv\").save('FileStore/my_data/inventory.csv')\n",
    "display(dbutils.fs.ls('FileStore/my_data/inventory.csv'))"
   ]
  },
  {
   "cell_type": "code",
   "execution_count": 0,
   "metadata": {
    "application/vnd.databricks.v1+cell": {
     "cellMetadata": {
      "byteLimit": 2048000,
      "rowLimit": 10000
     },
     "inputWidgets": {},
     "nuid": "821aad13-256d-470c-9727-bd7c0cd57af8",
     "showTitle": false,
     "title": ""
    }
   },
   "outputs": [
    {
     "output_type": "display_data",
     "data": {
      "text/html": [
       "<style scoped>\n",
       "  .table-result-container {\n",
       "    max-height: 300px;\n",
       "    overflow: auto;\n",
       "  }\n",
       "  table, th, td {\n",
       "    border: 1px solid black;\n",
       "    border-collapse: collapse;\n",
       "  }\n",
       "  th, td {\n",
       "    padding: 5px;\n",
       "  }\n",
       "  th {\n",
       "    text-align: left;\n",
       "  }\n",
       "</style><div class='table-result-container'><table class='table-result'><thead style='background-color: white'><tr><th>Product_id</th><th>Product_name</th><th>Opening_Stocks</th><th>PurchaseStock in</th><th>Number of Units Sold</th><th>Hand-In-Stock</th><th>Cost Price Per Unit (USD)</th><th>Cost Price Total (USD)</th></tr></thead><tbody><tr><td>P101</td><td>Laptop</td><td>50</td><td>20</td><td>10</td><td>60</td><td>1200</td><td>72000</td></tr><tr><td>P102</td><td>Monitor</td><td>null</td><td>15</td><td>5</td><td>null</td><td>500</td><td>25000</td></tr><tr><td>P103</td><td>Keyboard</td><td>60</td><td>25</td><td>15</td><td>null</td><td>50</td><td>3500</td></tr><tr><td>null</td><td>null</td><td>null</td><td>null</td><td>null</td><td>null</td><td>null</td><td>null</td></tr><tr><td>P105</td><td>Smartphone</td><td>null</td><td>30</td><td>20</td><td>80</td><td>900</td><td>72000</td></tr><tr><td>P106</td><td>Tablet</td><td>45</td><td>18</td><td>8</td><td>55</td><td>700</td><td>38500</td></tr><tr><td>P107</td><td>null</td><td>55</td><td>22</td><td>12</td><td>65</td><td>150</td><td>9750</td></tr><tr><td>P108</td><td>External Hard Drive</td><td>25</td><td>12</td><td>5</td><td>32</td><td>200</td><td>6400</td></tr><tr><td>null</td><td>Wireless Earbuds</td><td>35</td><td>null</td><td>7</td><td>43</td><td>80</td><td>3440</td></tr><tr><td>P110</td><td>Webcam</td><td>40</td><td>20</td><td>10</td><td>50</td><td>null</td><td>3000</td></tr><tr><td>P111</td><td>Desk Chair</td><td>20</td><td>8</td><td>3</td><td>25</td><td>150</td><td>3750</td></tr><tr><td>P112</td><td>Desk Lamp</td><td>null</td><td>15</td><td>7</td><td>38</td><td>30</td><td>1140</td></tr><tr><td>P113</td><td>USB Flash Drive</td><td>50</td><td>25</td><td>12</td><td>63</td><td>20</td><td>1260</td></tr><tr><td>P114</td><td>Ethernet Cable</td><td>60</td><td>30</td><td>15</td><td>75</td><td>10</td><td>750</td></tr><tr><td>P115</td><td>Power Strip</td><td>40</td><td>20</td><td>8</td><td>52</td><td>25</td><td>1300</td></tr><tr><td>P116</td><td>Wireless Mouse</td><td>35</td><td>15</td><td>5</td><td>null</td><td>40</td><td>1800</td></tr><tr><td>null</td><td>Gaming Keyboard</td><td>25</td><td>null</td><td>4</td><td>31</td><td>100</td><td>3100</td></tr><tr><td>P118</td><td>Gaming Mouse</td><td>30</td><td>12</td><td>6</td><td>36</td><td>80</td><td>2880</td></tr><tr><td>P119</td><td>Gaming Headset</td><td>null</td><td>8</td><td>3</td><td>25</td><td>120</td><td>3000</td></tr><tr><td>P120</td><td>Gaming Chair</td><td>15</td><td>6</td><td>2</td><td>19</td><td>200</td><td>3800</td></tr><tr><td>P121</td><td>Gaming Monitor</td><td>25</td><td>10</td><td>null</td><td>29</td><td>400</td><td>11600</td></tr><tr><td>P122</td><td>Graphics Card</td><td>40</td><td>18</td><td>9</td><td>49</td><td>600</td><td>29400</td></tr><tr><td>P123</td><td>CPU</td><td>30</td><td>15</td><td>7</td><td>38</td><td>350</td><td>13300</td></tr><tr><td>P124</td><td>Motherboard</td><td>null</td><td>12</td><td>5</td><td>32</td><td>200</td><td>6400</td></tr><tr><td>P125</td><td>RAM</td><td>50</td><td>22</td><td>11</td><td>null</td><td>80</td><td>4880</td></tr><tr><td>P126</td><td>SSD</td><td>45</td><td>20</td><td>8</td><td>57</td><td>120</td><td>6840</td></tr><tr><td>P127</td><td>HDD</td><td>60</td><td>null</td><td>12</td><td>73</td><td>60</td><td>4380</td></tr><tr><td>P128</td><td>Power Supply</td><td>35</td><td>15</td><td>6</td><td>44</td><td>100</td><td>4400</td></tr><tr><td>P129</td><td>PC Case</td><td>40</td><td>18</td><td>9</td><td>49</td><td>80</td><td>3920</td></tr><tr><td>P130</td><td>CPU Cooler</td><td>null</td><td>12</td><td>4</td><td>34</td><td>50</td><td>1700</td></tr><tr><td>P131</td><td>Monitor Stand</td><td>null</td><td>null</td><td>3</td><td>28</td><td>30</td><td>840</td></tr><tr><td>P132</td><td>Mouse Pad</td><td>50</td><td>20</td><td>8</td><td>58</td><td>null</td><td>580</td></tr><tr><td>P133</td><td>Thermal Paste</td><td>40</td><td>15</td><td>5</td><td>50</td><td>5</td><td>250</td></tr><tr><td>P134</td><td>Cable Management Kit</td><td>30</td><td>12</td><td>4</td><td>34</td><td>15</td><td>510</td></tr><tr><td>P135</td><td>WiFi Adapter</td><td>20</td><td>8</td><td>3</td><td>23</td><td>20</td><td>460</td></tr><tr><td>null</td><td>External DVD Drive</td><td>15</td><td>6</td><td>2</td><td>17</td><td>50</td><td>850</td></tr><tr><td>P137</td><td>Printer Cable</td><td>25</td><td>10</td><td>4</td><td>29</td><td>5</td><td>145</td></tr><tr><td>P138</td><td>Keyboard Cleaner</td><td>40</td><td>18</td><td>9</td><td>49</td><td>8</td><td>392</td></tr><tr><td>P139</td><td>Laptop Cooling Pad</td><td>null</td><td>15</td><td>null</td><td>39</td><td>20</td><td>780</td></tr><tr><td>P140</td><td>USB Hub</td><td>null</td><td>12</td><td>4</td><td>31</td><td>15</td><td>465</td></tr><tr><td>P141</td><td>Anti-Glare Screen Protector</td><td>25</td><td>null</td><td>3</td><td>28</td><td>10</td><td>280</td></tr><tr><td>P142</td><td>USB-C Adapter</td><td>20</td><td>10</td><td>4</td><td>24</td><td>15</td><td>360</td></tr><tr><td>null</td><td>Laptop Sleeve</td><td>30</td><td>12</td><td>5</td><td>37</td><td>20</td><td>740</td></tr><tr><td>P144</td><td>Wireless Charger</td><td>40</td><td>null</td><td>7</td><td>51</td><td>30</td><td>1530</td></tr><tr><td>P145</td><td>USB-C Cable</td><td>50</td><td>20</td><td>9</td><td>61</td><td>8</td><td>488</td></tr><tr><td>null</td><td>Gaming Desk</td><td>25</td><td>10</td><td>3</td><td>28</td><td>150</td><td>4200</td></tr></tbody></table></div>"
      ]
     },
     "metadata": {
      "application/vnd.databricks.v1+output": {
       "addedWidgets": {},
       "aggData": [],
       "aggError": "",
       "aggOverflow": false,
       "aggSchema": [],
       "aggSeriesLimitReached": false,
       "aggType": "",
       "arguments": {},
       "columnCustomDisplayInfos": {},
       "data": [
        [
         "P101",
         "Laptop",
         "50",
         "20",
         "10",
         "60",
         "1200",
         "72000"
        ],
        [
         "P102",
         "Monitor",
         null,
         "15",
         "5",
         null,
         "500",
         "25000"
        ],
        [
         "P103",
         "Keyboard",
         "60",
         "25",
         "15",
         null,
         "50",
         "3500"
        ],
        [
         null,
         null,
         null,
         null,
         null,
         null,
         null,
         null
        ],
        [
         "P105",
         "Smartphone",
         null,
         "30",
         "20",
         "80",
         "900",
         "72000"
        ],
        [
         "P106",
         "Tablet",
         "45",
         "18",
         "8",
         "55",
         "700",
         "38500"
        ],
        [
         "P107",
         null,
         "55",
         "22",
         "12",
         "65",
         "150",
         "9750"
        ],
        [
         "P108",
         "External Hard Drive",
         "25",
         "12",
         "5",
         "32",
         "200",
         "6400"
        ],
        [
         null,
         "Wireless Earbuds",
         "35",
         null,
         "7",
         "43",
         "80",
         "3440"
        ],
        [
         "P110",
         "Webcam",
         "40",
         "20",
         "10",
         "50",
         null,
         "3000"
        ],
        [
         "P111",
         "Desk Chair",
         "20",
         "8",
         "3",
         "25",
         "150",
         "3750"
        ],
        [
         "P112",
         "Desk Lamp",
         null,
         "15",
         "7",
         "38",
         "30",
         "1140"
        ],
        [
         "P113",
         "USB Flash Drive",
         "50",
         "25",
         "12",
         "63",
         "20",
         "1260"
        ],
        [
         "P114",
         "Ethernet Cable",
         "60",
         "30",
         "15",
         "75",
         "10",
         "750"
        ],
        [
         "P115",
         "Power Strip",
         "40",
         "20",
         "8",
         "52",
         "25",
         "1300"
        ],
        [
         "P116",
         "Wireless Mouse",
         "35",
         "15",
         "5",
         null,
         "40",
         "1800"
        ],
        [
         null,
         "Gaming Keyboard",
         "25",
         null,
         "4",
         "31",
         "100",
         "3100"
        ],
        [
         "P118",
         "Gaming Mouse",
         "30",
         "12",
         "6",
         "36",
         "80",
         "2880"
        ],
        [
         "P119",
         "Gaming Headset",
         null,
         "8",
         "3",
         "25",
         "120",
         "3000"
        ],
        [
         "P120",
         "Gaming Chair",
         "15",
         "6",
         "2",
         "19",
         "200",
         "3800"
        ],
        [
         "P121",
         "Gaming Monitor",
         "25",
         "10",
         null,
         "29",
         "400",
         "11600"
        ],
        [
         "P122",
         "Graphics Card",
         "40",
         "18",
         "9",
         "49",
         "600",
         "29400"
        ],
        [
         "P123",
         "CPU",
         "30",
         "15",
         "7",
         "38",
         "350",
         "13300"
        ],
        [
         "P124",
         "Motherboard",
         null,
         "12",
         "5",
         "32",
         "200",
         "6400"
        ],
        [
         "P125",
         "RAM",
         "50",
         "22",
         "11",
         null,
         "80",
         "4880"
        ],
        [
         "P126",
         "SSD",
         "45",
         "20",
         "8",
         "57",
         "120",
         "6840"
        ],
        [
         "P127",
         "HDD",
         "60",
         null,
         "12",
         "73",
         "60",
         "4380"
        ],
        [
         "P128",
         "Power Supply",
         "35",
         "15",
         "6",
         "44",
         "100",
         "4400"
        ],
        [
         "P129",
         "PC Case",
         "40",
         "18",
         "9",
         "49",
         "80",
         "3920"
        ],
        [
         "P130",
         "CPU Cooler",
         null,
         "12",
         "4",
         "34",
         "50",
         "1700"
        ],
        [
         "P131",
         "Monitor Stand",
         null,
         null,
         "3",
         "28",
         "30",
         "840"
        ],
        [
         "P132",
         "Mouse Pad",
         "50",
         "20",
         "8",
         "58",
         null,
         "580"
        ],
        [
         "P133",
         "Thermal Paste",
         "40",
         "15",
         "5",
         "50",
         "5",
         "250"
        ],
        [
         "P134",
         "Cable Management Kit",
         "30",
         "12",
         "4",
         "34",
         "15",
         "510"
        ],
        [
         "P135",
         "WiFi Adapter",
         "20",
         "8",
         "3",
         "23",
         "20",
         "460"
        ],
        [
         null,
         "External DVD Drive",
         "15",
         "6",
         "2",
         "17",
         "50",
         "850"
        ],
        [
         "P137",
         "Printer Cable",
         "25",
         "10",
         "4",
         "29",
         "5",
         "145"
        ],
        [
         "P138",
         "Keyboard Cleaner",
         "40",
         "18",
         "9",
         "49",
         "8",
         "392"
        ],
        [
         "P139",
         "Laptop Cooling Pad",
         null,
         "15",
         null,
         "39",
         "20",
         "780"
        ],
        [
         "P140",
         "USB Hub",
         null,
         "12",
         "4",
         "31",
         "15",
         "465"
        ],
        [
         "P141",
         "Anti-Glare Screen Protector",
         "25",
         null,
         "3",
         "28",
         "10",
         "280"
        ],
        [
         "P142",
         "USB-C Adapter",
         "20",
         "10",
         "4",
         "24",
         "15",
         "360"
        ],
        [
         null,
         "Laptop Sleeve",
         "30",
         "12",
         "5",
         "37",
         "20",
         "740"
        ],
        [
         "P144",
         "Wireless Charger",
         "40",
         null,
         "7",
         "51",
         "30",
         "1530"
        ],
        [
         "P145",
         "USB-C Cable",
         "50",
         "20",
         "9",
         "61",
         "8",
         "488"
        ],
        [
         null,
         "Gaming Desk",
         "25",
         "10",
         "3",
         "28",
         "150",
         "4200"
        ]
       ],
       "datasetInfos": [],
       "dbfsResultPath": null,
       "isJsonSchema": true,
       "metadata": {},
       "overflow": false,
       "plotOptions": {
        "customPlotOptions": {},
        "displayType": "table",
        "pivotAggregation": null,
        "pivotColumns": null,
        "xColumns": null,
        "yColumns": null
       },
       "removedWidgets": [],
       "schema": [
        {
         "metadata": "{}",
         "name": "Product_id",
         "type": "\"string\""
        },
        {
         "metadata": "{}",
         "name": "Product_name",
         "type": "\"string\""
        },
        {
         "metadata": "{}",
         "name": "Opening_Stocks",
         "type": "\"string\""
        },
        {
         "metadata": "{}",
         "name": "PurchaseStock in",
         "type": "\"string\""
        },
        {
         "metadata": "{}",
         "name": "Number of Units Sold",
         "type": "\"string\""
        },
        {
         "metadata": "{}",
         "name": "Hand-In-Stock",
         "type": "\"string\""
        },
        {
         "metadata": "{}",
         "name": "Cost Price Per Unit (USD)",
         "type": "\"string\""
        },
        {
         "metadata": "{}",
         "name": "Cost Price Total (USD)",
         "type": "\"string\""
        }
       ],
       "type": "table"
      }
     },
     "output_type": "display_data"
    }
   ],
   "source": [
    "# Read csv file\n",
    "csv_path = \"/FileStore/resource/inventory_records.csv\"\n",
    "csv_df = spark.read.csv(csv_path, header=True)\n",
    "display(csv_df)"
   ]
  },
  {
   "cell_type": "code",
   "execution_count": 0,
   "metadata": {
    "application/vnd.databricks.v1+cell": {
     "cellMetadata": {
      "byteLimit": 2048000,
      "rowLimit": 10000
     },
     "inputWidgets": {},
     "nuid": "dc020f16-cc16-4a08-a5fd-9235f54eff75",
     "showTitle": false,
     "title": ""
    }
   },
   "outputs": [
    {
     "output_type": "display_data",
     "data": {
      "text/html": [
       "<style scoped>\n",
       "  .table-result-container {\n",
       "    max-height: 300px;\n",
       "    overflow: auto;\n",
       "  }\n",
       "  table, th, td {\n",
       "    border: 1px solid black;\n",
       "    border-collapse: collapse;\n",
       "  }\n",
       "  th, td {\n",
       "    padding: 5px;\n",
       "  }\n",
       "  th {\n",
       "    text-align: left;\n",
       "  }\n",
       "</style><div class='table-result-container'><table class='table-result'><thead style='background-color: white'><tr><th>Product_id</th><th>Product_name</th><th>Opening_Stocks</th><th>PurchaseStock in</th><th>Number of Units Sold</th><th>Hand-In-Stock</th><th>Cost Price Per Unit (USD)</th><th>Cost Price Total (USD)</th></tr></thead><tbody><tr><td>P101</td><td>Laptop</td><td>50</td><td>20</td><td>10</td><td>60</td><td>1200</td><td>72000</td></tr><tr><td>P102</td><td>Monitor</td><td>null</td><td>15</td><td>5</td><td>null</td><td>500</td><td>25000</td></tr><tr><td>P103</td><td>Keyboard</td><td>60</td><td>25</td><td>15</td><td>null</td><td>50</td><td>3500</td></tr><tr><td>null</td><td>null</td><td>null</td><td>null</td><td>null</td><td>null</td><td>null</td><td>null</td></tr><tr><td>P105</td><td>Smartphone</td><td>null</td><td>30</td><td>20</td><td>80</td><td>900</td><td>72000</td></tr><tr><td>P106</td><td>Tablet</td><td>45</td><td>18</td><td>8</td><td>55</td><td>700</td><td>38500</td></tr><tr><td>P107</td><td>null</td><td>55</td><td>22</td><td>12</td><td>65</td><td>150</td><td>9750</td></tr><tr><td>P108</td><td>External Hard Drive</td><td>25</td><td>12</td><td>5</td><td>32</td><td>200</td><td>6400</td></tr><tr><td>null</td><td>Wireless Earbuds</td><td>35</td><td>null</td><td>7</td><td>43</td><td>80</td><td>3440</td></tr><tr><td>P110</td><td>Webcam</td><td>40</td><td>20</td><td>10</td><td>50</td><td>null</td><td>3000</td></tr><tr><td>P111</td><td>Desk Chair</td><td>20</td><td>8</td><td>3</td><td>25</td><td>150</td><td>3750</td></tr><tr><td>P112</td><td>Desk Lamp</td><td>null</td><td>15</td><td>7</td><td>38</td><td>30</td><td>1140</td></tr><tr><td>P113</td><td>USB Flash Drive</td><td>50</td><td>25</td><td>12</td><td>63</td><td>20</td><td>1260</td></tr><tr><td>P114</td><td>Ethernet Cable</td><td>60</td><td>30</td><td>15</td><td>75</td><td>10</td><td>750</td></tr><tr><td>P115</td><td>Power Strip</td><td>40</td><td>20</td><td>8</td><td>52</td><td>25</td><td>1300</td></tr><tr><td>P116</td><td>Wireless Mouse</td><td>35</td><td>15</td><td>5</td><td>null</td><td>40</td><td>1800</td></tr><tr><td>null</td><td>Gaming Keyboard</td><td>25</td><td>null</td><td>4</td><td>31</td><td>100</td><td>3100</td></tr><tr><td>P118</td><td>Gaming Mouse</td><td>30</td><td>12</td><td>6</td><td>36</td><td>80</td><td>2880</td></tr><tr><td>P119</td><td>Gaming Headset</td><td>null</td><td>8</td><td>3</td><td>25</td><td>120</td><td>3000</td></tr><tr><td>P120</td><td>Gaming Chair</td><td>15</td><td>6</td><td>2</td><td>19</td><td>200</td><td>3800</td></tr><tr><td>P121</td><td>Gaming Monitor</td><td>25</td><td>10</td><td>null</td><td>29</td><td>400</td><td>11600</td></tr><tr><td>P122</td><td>Graphics Card</td><td>40</td><td>18</td><td>9</td><td>49</td><td>600</td><td>29400</td></tr><tr><td>P123</td><td>CPU</td><td>30</td><td>15</td><td>7</td><td>38</td><td>350</td><td>13300</td></tr><tr><td>P124</td><td>Motherboard</td><td>null</td><td>12</td><td>5</td><td>32</td><td>200</td><td>6400</td></tr><tr><td>P125</td><td>RAM</td><td>50</td><td>22</td><td>11</td><td>null</td><td>80</td><td>4880</td></tr><tr><td>P126</td><td>SSD</td><td>45</td><td>20</td><td>8</td><td>57</td><td>120</td><td>6840</td></tr><tr><td>P127</td><td>HDD</td><td>60</td><td>null</td><td>12</td><td>73</td><td>60</td><td>4380</td></tr><tr><td>P128</td><td>Power Supply</td><td>35</td><td>15</td><td>6</td><td>44</td><td>100</td><td>4400</td></tr><tr><td>P129</td><td>PC Case</td><td>40</td><td>18</td><td>9</td><td>49</td><td>80</td><td>3920</td></tr><tr><td>P130</td><td>CPU Cooler</td><td>null</td><td>12</td><td>4</td><td>34</td><td>50</td><td>1700</td></tr><tr><td>P131</td><td>Monitor Stand</td><td>null</td><td>null</td><td>3</td><td>28</td><td>30</td><td>840</td></tr><tr><td>P132</td><td>Mouse Pad</td><td>50</td><td>20</td><td>8</td><td>58</td><td>null</td><td>580</td></tr><tr><td>P133</td><td>Thermal Paste</td><td>40</td><td>15</td><td>5</td><td>50</td><td>5</td><td>250</td></tr><tr><td>P134</td><td>Cable Management Kit</td><td>30</td><td>12</td><td>4</td><td>34</td><td>15</td><td>510</td></tr><tr><td>P135</td><td>WiFi Adapter</td><td>20</td><td>8</td><td>3</td><td>23</td><td>20</td><td>460</td></tr><tr><td>null</td><td>External DVD Drive</td><td>15</td><td>6</td><td>2</td><td>17</td><td>50</td><td>850</td></tr><tr><td>P137</td><td>Printer Cable</td><td>25</td><td>10</td><td>4</td><td>29</td><td>5</td><td>145</td></tr><tr><td>P138</td><td>Keyboard Cleaner</td><td>40</td><td>18</td><td>9</td><td>49</td><td>8</td><td>392</td></tr><tr><td>P139</td><td>Laptop Cooling Pad</td><td>null</td><td>15</td><td>null</td><td>39</td><td>20</td><td>780</td></tr><tr><td>P140</td><td>USB Hub</td><td>null</td><td>12</td><td>4</td><td>31</td><td>15</td><td>465</td></tr><tr><td>P141</td><td>Anti-Glare Screen Protector</td><td>25</td><td>null</td><td>3</td><td>28</td><td>10</td><td>280</td></tr><tr><td>P142</td><td>USB-C Adapter</td><td>20</td><td>10</td><td>4</td><td>24</td><td>15</td><td>360</td></tr><tr><td>null</td><td>Laptop Sleeve</td><td>30</td><td>12</td><td>5</td><td>37</td><td>20</td><td>740</td></tr><tr><td>P144</td><td>Wireless Charger</td><td>40</td><td>null</td><td>7</td><td>51</td><td>30</td><td>1530</td></tr><tr><td>P145</td><td>USB-C Cable</td><td>50</td><td>20</td><td>9</td><td>61</td><td>8</td><td>488</td></tr><tr><td>null</td><td>Gaming Desk</td><td>25</td><td>10</td><td>3</td><td>28</td><td>150</td><td>4200</td></tr></tbody></table></div>"
      ]
     },
     "metadata": {
      "application/vnd.databricks.v1+output": {
       "addedWidgets": {},
       "aggData": [],
       "aggError": "",
       "aggOverflow": false,
       "aggSchema": [],
       "aggSeriesLimitReached": false,
       "aggType": "",
       "arguments": {},
       "columnCustomDisplayInfos": {},
       "data": [
        [
         "P101",
         "Laptop",
         "50",
         "20",
         "10",
         "60",
         "1200",
         "72000"
        ],
        [
         "P102",
         "Monitor",
         null,
         "15",
         "5",
         null,
         "500",
         "25000"
        ],
        [
         "P103",
         "Keyboard",
         "60",
         "25",
         "15",
         null,
         "50",
         "3500"
        ],
        [
         null,
         null,
         null,
         null,
         null,
         null,
         null,
         null
        ],
        [
         "P105",
         "Smartphone",
         null,
         "30",
         "20",
         "80",
         "900",
         "72000"
        ],
        [
         "P106",
         "Tablet",
         "45",
         "18",
         "8",
         "55",
         "700",
         "38500"
        ],
        [
         "P107",
         null,
         "55",
         "22",
         "12",
         "65",
         "150",
         "9750"
        ],
        [
         "P108",
         "External Hard Drive",
         "25",
         "12",
         "5",
         "32",
         "200",
         "6400"
        ],
        [
         null,
         "Wireless Earbuds",
         "35",
         null,
         "7",
         "43",
         "80",
         "3440"
        ],
        [
         "P110",
         "Webcam",
         "40",
         "20",
         "10",
         "50",
         null,
         "3000"
        ],
        [
         "P111",
         "Desk Chair",
         "20",
         "8",
         "3",
         "25",
         "150",
         "3750"
        ],
        [
         "P112",
         "Desk Lamp",
         null,
         "15",
         "7",
         "38",
         "30",
         "1140"
        ],
        [
         "P113",
         "USB Flash Drive",
         "50",
         "25",
         "12",
         "63",
         "20",
         "1260"
        ],
        [
         "P114",
         "Ethernet Cable",
         "60",
         "30",
         "15",
         "75",
         "10",
         "750"
        ],
        [
         "P115",
         "Power Strip",
         "40",
         "20",
         "8",
         "52",
         "25",
         "1300"
        ],
        [
         "P116",
         "Wireless Mouse",
         "35",
         "15",
         "5",
         null,
         "40",
         "1800"
        ],
        [
         null,
         "Gaming Keyboard",
         "25",
         null,
         "4",
         "31",
         "100",
         "3100"
        ],
        [
         "P118",
         "Gaming Mouse",
         "30",
         "12",
         "6",
         "36",
         "80",
         "2880"
        ],
        [
         "P119",
         "Gaming Headset",
         null,
         "8",
         "3",
         "25",
         "120",
         "3000"
        ],
        [
         "P120",
         "Gaming Chair",
         "15",
         "6",
         "2",
         "19",
         "200",
         "3800"
        ],
        [
         "P121",
         "Gaming Monitor",
         "25",
         "10",
         null,
         "29",
         "400",
         "11600"
        ],
        [
         "P122",
         "Graphics Card",
         "40",
         "18",
         "9",
         "49",
         "600",
         "29400"
        ],
        [
         "P123",
         "CPU",
         "30",
         "15",
         "7",
         "38",
         "350",
         "13300"
        ],
        [
         "P124",
         "Motherboard",
         null,
         "12",
         "5",
         "32",
         "200",
         "6400"
        ],
        [
         "P125",
         "RAM",
         "50",
         "22",
         "11",
         null,
         "80",
         "4880"
        ],
        [
         "P126",
         "SSD",
         "45",
         "20",
         "8",
         "57",
         "120",
         "6840"
        ],
        [
         "P127",
         "HDD",
         "60",
         null,
         "12",
         "73",
         "60",
         "4380"
        ],
        [
         "P128",
         "Power Supply",
         "35",
         "15",
         "6",
         "44",
         "100",
         "4400"
        ],
        [
         "P129",
         "PC Case",
         "40",
         "18",
         "9",
         "49",
         "80",
         "3920"
        ],
        [
         "P130",
         "CPU Cooler",
         null,
         "12",
         "4",
         "34",
         "50",
         "1700"
        ],
        [
         "P131",
         "Monitor Stand",
         null,
         null,
         "3",
         "28",
         "30",
         "840"
        ],
        [
         "P132",
         "Mouse Pad",
         "50",
         "20",
         "8",
         "58",
         null,
         "580"
        ],
        [
         "P133",
         "Thermal Paste",
         "40",
         "15",
         "5",
         "50",
         "5",
         "250"
        ],
        [
         "P134",
         "Cable Management Kit",
         "30",
         "12",
         "4",
         "34",
         "15",
         "510"
        ],
        [
         "P135",
         "WiFi Adapter",
         "20",
         "8",
         "3",
         "23",
         "20",
         "460"
        ],
        [
         null,
         "External DVD Drive",
         "15",
         "6",
         "2",
         "17",
         "50",
         "850"
        ],
        [
         "P137",
         "Printer Cable",
         "25",
         "10",
         "4",
         "29",
         "5",
         "145"
        ],
        [
         "P138",
         "Keyboard Cleaner",
         "40",
         "18",
         "9",
         "49",
         "8",
         "392"
        ],
        [
         "P139",
         "Laptop Cooling Pad",
         null,
         "15",
         null,
         "39",
         "20",
         "780"
        ],
        [
         "P140",
         "USB Hub",
         null,
         "12",
         "4",
         "31",
         "15",
         "465"
        ],
        [
         "P141",
         "Anti-Glare Screen Protector",
         "25",
         null,
         "3",
         "28",
         "10",
         "280"
        ],
        [
         "P142",
         "USB-C Adapter",
         "20",
         "10",
         "4",
         "24",
         "15",
         "360"
        ],
        [
         null,
         "Laptop Sleeve",
         "30",
         "12",
         "5",
         "37",
         "20",
         "740"
        ],
        [
         "P144",
         "Wireless Charger",
         "40",
         null,
         "7",
         "51",
         "30",
         "1530"
        ],
        [
         "P145",
         "USB-C Cable",
         "50",
         "20",
         "9",
         "61",
         "8",
         "488"
        ],
        [
         null,
         "Gaming Desk",
         "25",
         "10",
         "3",
         "28",
         "150",
         "4200"
        ]
       ],
       "datasetInfos": [],
       "dbfsResultPath": null,
       "isJsonSchema": true,
       "metadata": {},
       "overflow": false,
       "plotOptions": {
        "customPlotOptions": {},
        "displayType": "table",
        "pivotAggregation": null,
        "pivotColumns": null,
        "xColumns": null,
        "yColumns": null
       },
       "removedWidgets": [],
       "schema": [
        {
         "metadata": "{}",
         "name": "Product_id",
         "type": "\"string\""
        },
        {
         "metadata": "{}",
         "name": "Product_name",
         "type": "\"string\""
        },
        {
         "metadata": "{}",
         "name": "Opening_Stocks",
         "type": "\"string\""
        },
        {
         "metadata": "{}",
         "name": "PurchaseStock in",
         "type": "\"string\""
        },
        {
         "metadata": "{}",
         "name": "Number of Units Sold",
         "type": "\"string\""
        },
        {
         "metadata": "{}",
         "name": "Hand-In-Stock",
         "type": "\"string\""
        },
        {
         "metadata": "{}",
         "name": "Cost Price Per Unit (USD)",
         "type": "\"string\""
        },
        {
         "metadata": "{}",
         "name": "Cost Price Total (USD)",
         "type": "\"string\""
        }
       ],
       "type": "table"
      }
     },
     "output_type": "display_data"
    }
   ],
   "source": [
    "# Read csv file\n",
    "csv_path = \"/FileStore/resource/inventory_records.csv\"\n",
    "csv_df1 = spark.read.format(\"csv\").option(\"header\",\"true\").load(csv_path)\n",
    "display(csv_df1)"
   ]
  },
  {
   "cell_type": "code",
   "execution_count": 0,
   "metadata": {
    "application/vnd.databricks.v1+cell": {
     "cellMetadata": {
      "byteLimit": 2048000,
      "rowLimit": 10000
     },
     "inputWidgets": {},
     "nuid": "3803622a-f99f-4143-bb84-2f50cfb35c60",
     "showTitle": false,
     "title": ""
    }
   },
   "outputs": [
    {
     "output_type": "display_data",
     "data": {
      "text/html": [
       "<style scoped>\n",
       "  .table-result-container {\n",
       "    max-height: 300px;\n",
       "    overflow: auto;\n",
       "  }\n",
       "  table, th, td {\n",
       "    border: 1px solid black;\n",
       "    border-collapse: collapse;\n",
       "  }\n",
       "  th, td {\n",
       "    padding: 5px;\n",
       "  }\n",
       "  th {\n",
       "    text-align: left;\n",
       "  }\n",
       "</style><div class='table-result-container'><table class='table-result'><thead style='background-color: white'><tr><th>path</th><th>name</th><th>size</th><th>modificationTime</th></tr></thead><tbody><tr><td>dbfs:/FileStore/my_data/csv_single_file/_SUCCESS</td><td>_SUCCESS</td><td>0</td><td>1712934570000</td></tr><tr><td>dbfs:/FileStore/my_data/csv_single_file/_committed_9174845524775886186</td><td>_committed_9174845524775886186</td><td>112</td><td>1712934570000</td></tr><tr><td>dbfs:/FileStore/my_data/csv_single_file/_started_9174845524775886186</td><td>_started_9174845524775886186</td><td>0</td><td>1712934569000</td></tr><tr><td>dbfs:/FileStore/my_data/csv_single_file/part-00000-tid-9174845524775886186-6147955f-e66b-4b3b-8e03-67e78cf047ed-48-1-c000.csv</td><td>part-00000-tid-9174845524775886186-6147955f-e66b-4b3b-8e03-67e78cf047ed-48-1-c000.csv</td><td>33</td><td>1712934570000</td></tr></tbody></table></div>"
      ]
     },
     "metadata": {
      "application/vnd.databricks.v1+output": {
       "addedWidgets": {},
       "aggData": [],
       "aggError": "",
       "aggOverflow": false,
       "aggSchema": [],
       "aggSeriesLimitReached": false,
       "aggType": "",
       "arguments": {},
       "columnCustomDisplayInfos": {},
       "data": [
        [
         "dbfs:/FileStore/my_data/csv_single_file/_SUCCESS",
         "_SUCCESS",
         0,
         1712934570000
        ],
        [
         "dbfs:/FileStore/my_data/csv_single_file/_committed_9174845524775886186",
         "_committed_9174845524775886186",
         112,
         1712934570000
        ],
        [
         "dbfs:/FileStore/my_data/csv_single_file/_started_9174845524775886186",
         "_started_9174845524775886186",
         0,
         1712934569000
        ],
        [
         "dbfs:/FileStore/my_data/csv_single_file/part-00000-tid-9174845524775886186-6147955f-e66b-4b3b-8e03-67e78cf047ed-48-1-c000.csv",
         "part-00000-tid-9174845524775886186-6147955f-e66b-4b3b-8e03-67e78cf047ed-48-1-c000.csv",
         33,
         1712934570000
        ]
       ],
       "datasetInfos": [],
       "dbfsResultPath": null,
       "isJsonSchema": true,
       "metadata": {},
       "overflow": false,
       "plotOptions": {
        "customPlotOptions": {},
        "displayType": "table",
        "pivotAggregation": null,
        "pivotColumns": null,
        "xColumns": null,
        "yColumns": null
       },
       "removedWidgets": [],
       "schema": [
        {
         "metadata": "{}",
         "name": "path",
         "type": "\"string\""
        },
        {
         "metadata": "{}",
         "name": "name",
         "type": "\"string\""
        },
        {
         "metadata": "{}",
         "name": "size",
         "type": "\"long\""
        },
        {
         "metadata": "{}",
         "name": "modificationTime",
         "type": "\"long\""
        }
       ],
       "type": "table"
      }
     },
     "output_type": "display_data"
    }
   ],
   "source": [
    "# write csv in single file\n",
    "df.coalesce(1).write.format(\"csv\").save(\"FileStore/my_data/csv_single_file\")\n",
    "display(dbutils.fs.ls(\"FileStore/my_data/csv_single_file\"))"
   ]
  }
 ],
 "metadata": {
  "application/vnd.databricks.v1+notebook": {
   "dashboards": [],
   "language": "python",
   "notebookMetadata": {
    "pythonIndentUnit": 4
   },
   "notebookName": "read_write_csv",
   "widgets": {}
  }
 },
 "nbformat": 4,
 "nbformat_minor": 0
}
