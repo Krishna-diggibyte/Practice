{
 "cells": [
  {
   "cell_type": "code",
   "execution_count": 0,
   "metadata": {
    "application/vnd.databricks.v1+cell": {
     "cellMetadata": {
      "byteLimit": 2048000,
      "rowLimit": 10000
     },
     "inputWidgets": {},
     "nuid": "06a455b0-60b4-4669-bd19-c7842c300164",
     "showTitle": false,
     "title": ""
    }
   },
   "outputs": [
    {
     "output_type": "stream",
     "name": "stdout",
     "output_type": "stream",
     "text": [
      "+-------+---+\n|   name|age|\n+-------+---+\n|Krishna| 23|\n|basheer| 24|\n|kuldeep| 25|\n+-------+---+\n\n"
     ]
    }
   ],
   "source": [
    "# create a dataframe\n",
    "df = spark.createDataFrame([('Krishna', 23),('basheer', 24), ('kuldeep', 25)], [\"name\",'age'])\n",
    "df.show()"
   ]
  },
  {
   "cell_type": "code",
   "execution_count": 0,
   "metadata": {
    "application/vnd.databricks.v1+cell": {
     "cellMetadata": {
      "byteLimit": 2048000,
      "rowLimit": 10000
     },
     "inputWidgets": {},
     "nuid": "77eb3e38-3d03-4d45-a176-639d96a2421b",
     "showTitle": false,
     "title": ""
    }
   },
   "outputs": [
    {
     "output_type": "display_data",
     "data": {
      "text/html": [
       "<style scoped>\n",
       "  .table-result-container {\n",
       "    max-height: 300px;\n",
       "    overflow: auto;\n",
       "  }\n",
       "  table, th, td {\n",
       "    border: 1px solid black;\n",
       "    border-collapse: collapse;\n",
       "  }\n",
       "  th, td {\n",
       "    padding: 5px;\n",
       "  }\n",
       "  th {\n",
       "    text-align: left;\n",
       "  }\n",
       "</style><div class='table-result-container'><table class='table-result'><thead style='background-color: white'><tr><th>path</th><th>name</th><th>size</th><th>modificationTime</th></tr></thead><tbody><tr><td>dbfs:/FileStore/my_data/orc/_SUCCESS</td><td>_SUCCESS</td><td>0</td><td>1712935790000</td></tr><tr><td>dbfs:/FileStore/my_data/orc/_committed_820665750017178430</td><td>_committed_820665750017178430</td><td>404</td><td>1712935790000</td></tr><tr><td>dbfs:/FileStore/my_data/orc/_started_820665750017178430</td><td>_started_820665750017178430</td><td>0</td><td>1712935789000</td></tr><tr><td>dbfs:/FileStore/my_data/orc/part-00000-tid-820665750017178430-25458d0e-95e0-4386-b82c-56d341362ca4-125-1-c000.snappy.orc</td><td>part-00000-tid-820665750017178430-25458d0e-95e0-4386-b82c-56d341362ca4-125-1-c000.snappy.orc</td><td>136</td><td>1712935790000</td></tr><tr><td>dbfs:/FileStore/my_data/orc/part-00002-tid-820665750017178430-25458d0e-95e0-4386-b82c-56d341362ca4-127-1-c000.snappy.orc</td><td>part-00002-tid-820665750017178430-25458d0e-95e0-4386-b82c-56d341362ca4-127-1-c000.snappy.orc</td><td>388</td><td>1712935790000</td></tr><tr><td>dbfs:/FileStore/my_data/orc/part-00005-tid-820665750017178430-25458d0e-95e0-4386-b82c-56d341362ca4-130-1-c000.snappy.orc</td><td>part-00005-tid-820665750017178430-25458d0e-95e0-4386-b82c-56d341362ca4-130-1-c000.snappy.orc</td><td>388</td><td>1712935790000</td></tr><tr><td>dbfs:/FileStore/my_data/orc/part-00007-tid-820665750017178430-25458d0e-95e0-4386-b82c-56d341362ca4-132-1-c000.snappy.orc</td><td>part-00007-tid-820665750017178430-25458d0e-95e0-4386-b82c-56d341362ca4-132-1-c000.snappy.orc</td><td>388</td><td>1712935790000</td></tr></tbody></table></div>"
      ]
     },
     "metadata": {
      "application/vnd.databricks.v1+output": {
       "addedWidgets": {},
       "aggData": [],
       "aggError": "",
       "aggOverflow": false,
       "aggSchema": [],
       "aggSeriesLimitReached": false,
       "aggType": "",
       "arguments": {},
       "columnCustomDisplayInfos": {},
       "data": [
        [
         "dbfs:/FileStore/my_data/orc/_SUCCESS",
         "_SUCCESS",
         0,
         1712935790000
        ],
        [
         "dbfs:/FileStore/my_data/orc/_committed_820665750017178430",
         "_committed_820665750017178430",
         404,
         1712935790000
        ],
        [
         "dbfs:/FileStore/my_data/orc/_started_820665750017178430",
         "_started_820665750017178430",
         0,
         1712935789000
        ],
        [
         "dbfs:/FileStore/my_data/orc/part-00000-tid-820665750017178430-25458d0e-95e0-4386-b82c-56d341362ca4-125-1-c000.snappy.orc",
         "part-00000-tid-820665750017178430-25458d0e-95e0-4386-b82c-56d341362ca4-125-1-c000.snappy.orc",
         136,
         1712935790000
        ],
        [
         "dbfs:/FileStore/my_data/orc/part-00002-tid-820665750017178430-25458d0e-95e0-4386-b82c-56d341362ca4-127-1-c000.snappy.orc",
         "part-00002-tid-820665750017178430-25458d0e-95e0-4386-b82c-56d341362ca4-127-1-c000.snappy.orc",
         388,
         1712935790000
        ],
        [
         "dbfs:/FileStore/my_data/orc/part-00005-tid-820665750017178430-25458d0e-95e0-4386-b82c-56d341362ca4-130-1-c000.snappy.orc",
         "part-00005-tid-820665750017178430-25458d0e-95e0-4386-b82c-56d341362ca4-130-1-c000.snappy.orc",
         388,
         1712935790000
        ],
        [
         "dbfs:/FileStore/my_data/orc/part-00007-tid-820665750017178430-25458d0e-95e0-4386-b82c-56d341362ca4-132-1-c000.snappy.orc",
         "part-00007-tid-820665750017178430-25458d0e-95e0-4386-b82c-56d341362ca4-132-1-c000.snappy.orc",
         388,
         1712935790000
        ]
       ],
       "datasetInfos": [],
       "dbfsResultPath": null,
       "isJsonSchema": true,
       "metadata": {},
       "overflow": false,
       "plotOptions": {
        "customPlotOptions": {},
        "displayType": "table",
        "pivotAggregation": null,
        "pivotColumns": null,
        "xColumns": null,
        "yColumns": null
       },
       "removedWidgets": [],
       "schema": [
        {
         "metadata": "{}",
         "name": "path",
         "type": "\"string\""
        },
        {
         "metadata": "{}",
         "name": "name",
         "type": "\"string\""
        },
        {
         "metadata": "{}",
         "name": "size",
         "type": "\"long\""
        },
        {
         "metadata": "{}",
         "name": "modificationTime",
         "type": "\"long\""
        }
       ],
       "type": "table"
      }
     },
     "output_type": "display_data"
    }
   ],
   "source": [
    "# write ORC (Optimised Row Columnar)\n",
    "df.write.orc(\"FileStore/my_data/orc\")\n",
    "display(dbutils.fs.ls('FileStore/my_data/orc'))"
   ]
  },
  {
   "cell_type": "code",
   "execution_count": 0,
   "metadata": {
    "application/vnd.databricks.v1+cell": {
     "cellMetadata": {
      "byteLimit": 2048000,
      "rowLimit": 10000
     },
     "inputWidgets": {},
     "nuid": "397a7547-8053-46dd-96e0-e09c6a7916fc",
     "showTitle": false,
     "title": ""
    }
   },
   "outputs": [
    {
     "output_type": "stream",
     "name": "stdout",
     "output_type": "stream",
     "text": [
      "+-------+---+\n|   name|age|\n+-------+---+\n|Krishna| 23|\n+-------+---+\n\n"
     ]
    }
   ],
   "source": [
    "# read from ORC (Optimised Row Columnar)\n",
    "orc_df = spark.read.orc(\"dbfs:/FileStore/my_data/orc/part-00002-tid-820665750017178430-25458d0e-95e0-4386-b82c-56d341362ca4-127-1-c000.snappy.orc\")\n",
    "orc_df.show()"
   ]
  }
 ],
 "metadata": {
  "application/vnd.databricks.v1+notebook": {
   "dashboards": [],
   "language": "python",
   "notebookMetadata": {
    "pythonIndentUnit": 4
   },
   "notebookName": "read_write_orc",
   "widgets": {}
  }
 },
 "nbformat": 4,
 "nbformat_minor": 0
}
