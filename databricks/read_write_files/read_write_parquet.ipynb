{
 "cells": [
  {
   "cell_type": "code",
   "execution_count": 0,
   "metadata": {
    "application/vnd.databricks.v1+cell": {
     "cellMetadata": {
      "byteLimit": 2048000,
      "rowLimit": 10000
     },
     "inputWidgets": {},
     "nuid": "845b3c9b-e8e7-4213-b2fc-8074aca55396",
     "showTitle": false,
     "title": ""
    }
   },
   "outputs": [
    {
     "output_type": "stream",
     "name": "stdout",
     "output_type": "stream",
     "text": [
      "+-------+---+\n|   name|age|\n+-------+---+\n|Krishna| 23|\n|basheer| 24|\n|kuldeep| 25|\n+-------+---+\n\n"
     ]
    }
   ],
   "source": [
    "# create a dataframe\n",
    "df = spark.createDataFrame([('Krishna', 23),('basheer', 24), ('kuldeep', 25)], [\"name\",'age'])\n",
    "df.show()"
   ]
  },
  {
   "cell_type": "code",
   "execution_count": 0,
   "metadata": {
    "application/vnd.databricks.v1+cell": {
     "cellMetadata": {
      "byteLimit": 2048000,
      "rowLimit": 10000
     },
     "inputWidgets": {},
     "nuid": "c7e28168-b434-4f35-a035-0b303ea52d5a",
     "showTitle": false,
     "title": ""
    }
   },
   "outputs": [
    {
     "output_type": "display_data",
     "data": {
      "text/html": [
       "<style scoped>\n",
       "  .table-result-container {\n",
       "    max-height: 300px;\n",
       "    overflow: auto;\n",
       "  }\n",
       "  table, th, td {\n",
       "    border: 1px solid black;\n",
       "    border-collapse: collapse;\n",
       "  }\n",
       "  th, td {\n",
       "    padding: 5px;\n",
       "  }\n",
       "  th {\n",
       "    text-align: left;\n",
       "  }\n",
       "</style><div class='table-result-container'><table class='table-result'><thead style='background-color: white'><tr><th>path</th><th>name</th><th>size</th><th>modificationTime</th></tr></thead><tbody><tr><td>dbfs:/FileStore/my_data/parquet/_SUCCESS</td><td>_SUCCESS</td><td>0</td><td>1712935434000</td></tr><tr><td>dbfs:/FileStore/my_data/parquet/_committed_6840530879551748400</td><td>_committed_6840530879551748400</td><td>421</td><td>1712935434000</td></tr><tr><td>dbfs:/FileStore/my_data/parquet/_started_6840530879551748400</td><td>_started_6840530879551748400</td><td>0</td><td>1712935431000</td></tr><tr><td>dbfs:/FileStore/my_data/parquet/part-00000-tid-6840530879551748400-4bfa7888-4a16-4f23-946d-5b532a30d4f1-93-1-c000.snappy.parquet</td><td>part-00000-tid-6840530879551748400-4bfa7888-4a16-4f23-946d-5b532a30d4f1-93-1-c000.snappy.parquet</td><td>503</td><td>1712935434000</td></tr><tr><td>dbfs:/FileStore/my_data/parquet/part-00002-tid-6840530879551748400-4bfa7888-4a16-4f23-946d-5b532a30d4f1-95-1-c000.snappy.parquet</td><td>part-00002-tid-6840530879551748400-4bfa7888-4a16-4f23-946d-5b532a30d4f1-95-1-c000.snappy.parquet</td><td>858</td><td>1712935434000</td></tr><tr><td>dbfs:/FileStore/my_data/parquet/part-00005-tid-6840530879551748400-4bfa7888-4a16-4f23-946d-5b532a30d4f1-98-1-c000.snappy.parquet</td><td>part-00005-tid-6840530879551748400-4bfa7888-4a16-4f23-946d-5b532a30d4f1-98-1-c000.snappy.parquet</td><td>858</td><td>1712935434000</td></tr><tr><td>dbfs:/FileStore/my_data/parquet/part-00007-tid-6840530879551748400-4bfa7888-4a16-4f23-946d-5b532a30d4f1-100-1-c000.snappy.parquet</td><td>part-00007-tid-6840530879551748400-4bfa7888-4a16-4f23-946d-5b532a30d4f1-100-1-c000.snappy.parquet</td><td>858</td><td>1712935434000</td></tr></tbody></table></div>"
      ]
     },
     "metadata": {
      "application/vnd.databricks.v1+output": {
       "addedWidgets": {},
       "aggData": [],
       "aggError": "",
       "aggOverflow": false,
       "aggSchema": [],
       "aggSeriesLimitReached": false,
       "aggType": "",
       "arguments": {},
       "columnCustomDisplayInfos": {},
       "data": [
        [
         "dbfs:/FileStore/my_data/parquet/_SUCCESS",
         "_SUCCESS",
         0,
         1712935434000
        ],
        [
         "dbfs:/FileStore/my_data/parquet/_committed_6840530879551748400",
         "_committed_6840530879551748400",
         421,
         1712935434000
        ],
        [
         "dbfs:/FileStore/my_data/parquet/_started_6840530879551748400",
         "_started_6840530879551748400",
         0,
         1712935431000
        ],
        [
         "dbfs:/FileStore/my_data/parquet/part-00000-tid-6840530879551748400-4bfa7888-4a16-4f23-946d-5b532a30d4f1-93-1-c000.snappy.parquet",
         "part-00000-tid-6840530879551748400-4bfa7888-4a16-4f23-946d-5b532a30d4f1-93-1-c000.snappy.parquet",
         503,
         1712935434000
        ],
        [
         "dbfs:/FileStore/my_data/parquet/part-00002-tid-6840530879551748400-4bfa7888-4a16-4f23-946d-5b532a30d4f1-95-1-c000.snappy.parquet",
         "part-00002-tid-6840530879551748400-4bfa7888-4a16-4f23-946d-5b532a30d4f1-95-1-c000.snappy.parquet",
         858,
         1712935434000
        ],
        [
         "dbfs:/FileStore/my_data/parquet/part-00005-tid-6840530879551748400-4bfa7888-4a16-4f23-946d-5b532a30d4f1-98-1-c000.snappy.parquet",
         "part-00005-tid-6840530879551748400-4bfa7888-4a16-4f23-946d-5b532a30d4f1-98-1-c000.snappy.parquet",
         858,
         1712935434000
        ],
        [
         "dbfs:/FileStore/my_data/parquet/part-00007-tid-6840530879551748400-4bfa7888-4a16-4f23-946d-5b532a30d4f1-100-1-c000.snappy.parquet",
         "part-00007-tid-6840530879551748400-4bfa7888-4a16-4f23-946d-5b532a30d4f1-100-1-c000.snappy.parquet",
         858,
         1712935434000
        ]
       ],
       "datasetInfos": [],
       "dbfsResultPath": null,
       "isJsonSchema": true,
       "metadata": {},
       "overflow": false,
       "plotOptions": {
        "customPlotOptions": {},
        "displayType": "table",
        "pivotAggregation": null,
        "pivotColumns": null,
        "xColumns": null,
        "yColumns": null
       },
       "removedWidgets": [],
       "schema": [
        {
         "metadata": "{}",
         "name": "path",
         "type": "\"string\""
        },
        {
         "metadata": "{}",
         "name": "name",
         "type": "\"string\""
        },
        {
         "metadata": "{}",
         "name": "size",
         "type": "\"long\""
        },
        {
         "metadata": "{}",
         "name": "modificationTime",
         "type": "\"long\""
        }
       ],
       "type": "table"
      }
     },
     "output_type": "display_data"
    }
   ],
   "source": [
    "# write parquet file\n",
    "df.write.parquet('FileStore/my_data/parquet')\n",
    "display(dbutils.fs.ls('FileStore/my_data/parquet'))\n",
    "     "
   ]
  },
  {
   "cell_type": "code",
   "execution_count": 0,
   "metadata": {
    "application/vnd.databricks.v1+cell": {
     "cellMetadata": {
      "byteLimit": 2048000,
      "rowLimit": 10000
     },
     "inputWidgets": {},
     "nuid": "2b7d5202-7948-4635-bbbc-50c65c22da04",
     "showTitle": false,
     "title": ""
    }
   },
   "outputs": [
    {
     "output_type": "display_data",
     "data": {
      "text/html": [
       "<style scoped>\n",
       "  .table-result-container {\n",
       "    max-height: 300px;\n",
       "    overflow: auto;\n",
       "  }\n",
       "  table, th, td {\n",
       "    border: 1px solid black;\n",
       "    border-collapse: collapse;\n",
       "  }\n",
       "  th, td {\n",
       "    padding: 5px;\n",
       "  }\n",
       "  th {\n",
       "    text-align: left;\n",
       "  }\n",
       "</style><div class='table-result-container'><table class='table-result'><thead style='background-color: white'><tr><th>name</th><th>age</th></tr></thead><tbody><tr><td>Krishna</td><td>23</td></tr></tbody></table></div>"
      ]
     },
     "metadata": {
      "application/vnd.databricks.v1+output": {
       "addedWidgets": {},
       "aggData": [],
       "aggError": "",
       "aggOverflow": false,
       "aggSchema": [],
       "aggSeriesLimitReached": false,
       "aggType": "",
       "arguments": {},
       "columnCustomDisplayInfos": {},
       "data": [
        [
         "Krishna",
         23
        ]
       ],
       "datasetInfos": [],
       "dbfsResultPath": null,
       "isJsonSchema": true,
       "metadata": {},
       "overflow": false,
       "plotOptions": {
        "customPlotOptions": {},
        "displayType": "table",
        "pivotAggregation": null,
        "pivotColumns": null,
        "xColumns": null,
        "yColumns": null
       },
       "removedWidgets": [],
       "schema": [
        {
         "metadata": "{}",
         "name": "name",
         "type": "\"string\""
        },
        {
         "metadata": "{}",
         "name": "age",
         "type": "\"long\""
        }
       ],
       "type": "table"
      }
     },
     "output_type": "display_data"
    }
   ],
   "source": [
    "# read parquet file\n",
    "parquet_path = \"dbfs:/FileStore/my_data/parquet/part-00002-tid-6840530879551748400-4bfa7888-4a16-4f23-946d-5b532a30d4f1-95-1-c000.snappy.parquet\"\n",
    "parquet_df = spark.read.format(\"parquet\").load(parquet_path)\n",
    "display(parquet_df)"
   ]
  }
 ],
 "metadata": {
  "application/vnd.databricks.v1+notebook": {
   "dashboards": [],
   "language": "python",
   "notebookMetadata": {
    "pythonIndentUnit": 4
   },
   "notebookName": "read_write_parquet",
   "widgets": {}
  }
 },
 "nbformat": 4,
 "nbformat_minor": 0
}
