{
 "cells": [
  {
   "cell_type": "code",
   "execution_count": 0,
   "metadata": {
    "application/vnd.databricks.v1+cell": {
     "cellMetadata": {
      "byteLimit": 2048000,
      "rowLimit": 10000
     },
     "inputWidgets": {},
     "nuid": "71abd871-66e0-4f2f-88a5-28f800b9f409",
     "showTitle": false,
     "title": ""
    }
   },
   "outputs": [
    {
     "output_type": "stream",
     "name": "stdout",
     "output_type": "stream",
     "text": [
      "Wrote 20 bytes.\nOut[1]: True"
     ]
    }
   ],
   "source": [
    "dbutils.fs.put('FileStore/my_data/file.txt','Hello, I am Krishnna',True)"
   ]
  },
  {
   "cell_type": "code",
   "execution_count": 0,
   "metadata": {
    "application/vnd.databricks.v1+cell": {
     "cellMetadata": {
      "byteLimit": 2048000,
      "rowLimit": 10000
     },
     "inputWidgets": {},
     "nuid": "43ef99d1-e7f6-4472-bd4b-63a537ddfdc3",
     "showTitle": false,
     "title": ""
    }
   },
   "outputs": [
    {
     "output_type": "stream",
     "name": "stdout",
     "output_type": "stream",
     "text": [
      "+--------------------+\n|value               |\n+--------------------+\n|Hello, I am Krishnna|\n+--------------------+\n\n"
     ]
    }
   ],
   "source": [
    "# Reading Text Files\n",
    "text_df = spark.read.text(\"/FileStore/my_data/file.txt\")\n",
    "text_df.show(truncate=False)"
   ]
  },
  {
   "cell_type": "code",
   "execution_count": 0,
   "metadata": {
    "application/vnd.databricks.v1+cell": {
     "cellMetadata": {
      "byteLimit": 2048000,
      "rowLimit": 10000
     },
     "inputWidgets": {},
     "nuid": "b62c5170-74f0-4a83-b155-a593bb8217c2",
     "showTitle": false,
     "title": ""
    }
   },
   "outputs": [
    {
     "output_type": "stream",
     "name": "stdout",
     "output_type": "stream",
     "text": [
      "Out[3]: 'Hello, I am Krishnna'"
     ]
    }
   ],
   "source": [
    "dbutils.fs.head('FileStore/my_data/file.txt')"
   ]
  }
 ],
 "metadata": {
  "application/vnd.databricks.v1+notebook": {
   "dashboards": [],
   "language": "python",
   "notebookMetadata": {
    "pythonIndentUnit": 4
   },
   "notebookName": "read_write_text",
   "widgets": {}
  }
 },
 "nbformat": 4,
 "nbformat_minor": 0
}
