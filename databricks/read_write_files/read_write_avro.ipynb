{
 "cells": [
  {
   "cell_type": "code",
   "execution_count": 0,
   "metadata": {
    "application/vnd.databricks.v1+cell": {
     "cellMetadata": {
      "byteLimit": 2048000,
      "rowLimit": 10000
     },
     "inputWidgets": {},
     "nuid": "f9c2f080-2948-4fbe-a04a-f55569023ffa",
     "showTitle": false,
     "title": ""
    }
   },
   "outputs": [
    {
     "output_type": "stream",
     "name": "stdout",
     "output_type": "stream",
     "text": [
      "+-------+---+\n|   name|age|\n+-------+---+\n|Krishna| 23|\n|basheer| 24|\n|kuldeep| 25|\n+-------+---+\n\n"
     ]
    }
   ],
   "source": [
    "# create a dataframe\n",
    "df = spark.createDataFrame([('Krishna', 23),('basheer', 24), ('kuldeep', 25)], [\"name\",'age'])\n",
    "df.show()"
   ]
  },
  {
   "cell_type": "code",
   "execution_count": 0,
   "metadata": {
    "application/vnd.databricks.v1+cell": {
     "cellMetadata": {
      "byteLimit": 2048000,
      "rowLimit": 10000
     },
     "inputWidgets": {},
     "nuid": "27688402-b9af-4104-8d62-a502379bbf8e",
     "showTitle": false,
     "title": ""
    }
   },
   "outputs": [
    {
     "output_type": "display_data",
     "data": {
      "text/html": [
       "<style scoped>\n",
       "  .table-result-container {\n",
       "    max-height: 300px;\n",
       "    overflow: auto;\n",
       "  }\n",
       "  table, th, td {\n",
       "    border: 1px solid black;\n",
       "    border-collapse: collapse;\n",
       "  }\n",
       "  th, td {\n",
       "    padding: 5px;\n",
       "  }\n",
       "  th {\n",
       "    text-align: left;\n",
       "  }\n",
       "</style><div class='table-result-container'><table class='table-result'><thead style='background-color: white'><tr><th>path</th><th>name</th><th>size</th><th>modificationTime</th></tr></thead><tbody><tr><td>dbfs:/FileStore/my_data/avro/_SUCCESS</td><td>_SUCCESS</td><td>0</td><td>1712937554000</td></tr><tr><td>dbfs:/FileStore/my_data/avro/_committed_8069033105036580357</td><td>_committed_8069033105036580357</td><td>384</td><td>1712937554000</td></tr><tr><td>dbfs:/FileStore/my_data/avro/_started_8069033105036580357</td><td>_started_8069033105036580357</td><td>0</td><td>1712937553000</td></tr><tr><td>dbfs:/FileStore/my_data/avro/part-00000-tid-8069033105036580357-9b0afc37-9ee8-47be-bb7f-27f9b5db577b-158-1-c000.avro</td><td>part-00000-tid-8069033105036580357-9b0afc37-9ee8-47be-bb7f-27f9b5db577b-158-1-c000.avro</td><td>283</td><td>1712937553000</td></tr><tr><td>dbfs:/FileStore/my_data/avro/part-00002-tid-8069033105036580357-9b0afc37-9ee8-47be-bb7f-27f9b5db577b-160-1-c000.avro</td><td>part-00002-tid-8069033105036580357-9b0afc37-9ee8-47be-bb7f-27f9b5db577b-160-1-c000.avro</td><td>318</td><td>1712937553000</td></tr><tr><td>dbfs:/FileStore/my_data/avro/part-00005-tid-8069033105036580357-9b0afc37-9ee8-47be-bb7f-27f9b5db577b-163-1-c000.avro</td><td>part-00005-tid-8069033105036580357-9b0afc37-9ee8-47be-bb7f-27f9b5db577b-163-1-c000.avro</td><td>318</td><td>1712937553000</td></tr><tr><td>dbfs:/FileStore/my_data/avro/part-00007-tid-8069033105036580357-9b0afc37-9ee8-47be-bb7f-27f9b5db577b-165-1-c000.avro</td><td>part-00007-tid-8069033105036580357-9b0afc37-9ee8-47be-bb7f-27f9b5db577b-165-1-c000.avro</td><td>318</td><td>1712937553000</td></tr></tbody></table></div>"
      ]
     },
     "metadata": {
      "application/vnd.databricks.v1+output": {
       "addedWidgets": {},
       "aggData": [],
       "aggError": "",
       "aggOverflow": false,
       "aggSchema": [],
       "aggSeriesLimitReached": false,
       "aggType": "",
       "arguments": {},
       "columnCustomDisplayInfos": {},
       "data": [
        [
         "dbfs:/FileStore/my_data/avro/_SUCCESS",
         "_SUCCESS",
         0,
         1712937554000
        ],
        [
         "dbfs:/FileStore/my_data/avro/_committed_8069033105036580357",
         "_committed_8069033105036580357",
         384,
         1712937554000
        ],
        [
         "dbfs:/FileStore/my_data/avro/_started_8069033105036580357",
         "_started_8069033105036580357",
         0,
         1712937553000
        ],
        [
         "dbfs:/FileStore/my_data/avro/part-00000-tid-8069033105036580357-9b0afc37-9ee8-47be-bb7f-27f9b5db577b-158-1-c000.avro",
         "part-00000-tid-8069033105036580357-9b0afc37-9ee8-47be-bb7f-27f9b5db577b-158-1-c000.avro",
         283,
         1712937553000
        ],
        [
         "dbfs:/FileStore/my_data/avro/part-00002-tid-8069033105036580357-9b0afc37-9ee8-47be-bb7f-27f9b5db577b-160-1-c000.avro",
         "part-00002-tid-8069033105036580357-9b0afc37-9ee8-47be-bb7f-27f9b5db577b-160-1-c000.avro",
         318,
         1712937553000
        ],
        [
         "dbfs:/FileStore/my_data/avro/part-00005-tid-8069033105036580357-9b0afc37-9ee8-47be-bb7f-27f9b5db577b-163-1-c000.avro",
         "part-00005-tid-8069033105036580357-9b0afc37-9ee8-47be-bb7f-27f9b5db577b-163-1-c000.avro",
         318,
         1712937553000
        ],
        [
         "dbfs:/FileStore/my_data/avro/part-00007-tid-8069033105036580357-9b0afc37-9ee8-47be-bb7f-27f9b5db577b-165-1-c000.avro",
         "part-00007-tid-8069033105036580357-9b0afc37-9ee8-47be-bb7f-27f9b5db577b-165-1-c000.avro",
         318,
         1712937553000
        ]
       ],
       "datasetInfos": [],
       "dbfsResultPath": null,
       "isJsonSchema": true,
       "metadata": {},
       "overflow": false,
       "plotOptions": {
        "customPlotOptions": {},
        "displayType": "table",
        "pivotAggregation": null,
        "pivotColumns": null,
        "xColumns": null,
        "yColumns": null
       },
       "removedWidgets": [],
       "schema": [
        {
         "metadata": "{}",
         "name": "path",
         "type": "\"string\""
        },
        {
         "metadata": "{}",
         "name": "name",
         "type": "\"string\""
        },
        {
         "metadata": "{}",
         "name": "size",
         "type": "\"long\""
        },
        {
         "metadata": "{}",
         "name": "modificationTime",
         "type": "\"long\""
        }
       ],
       "type": "table"
      }
     },
     "output_type": "display_data"
    }
   ],
   "source": [
    "# Write avro format\n",
    "df.write.format(\"avro\").save(\"FileStore/my_data/avro\")\n",
    "display(dbutils.fs.ls(\"FileStore/my_data/avro\"))\n",
    "     "
   ]
  },
  {
   "cell_type": "code",
   "execution_count": 0,
   "metadata": {
    "application/vnd.databricks.v1+cell": {
     "cellMetadata": {
      "byteLimit": 2048000,
      "rowLimit": 10000
     },
     "inputWidgets": {},
     "nuid": "a7247ba9-1c0e-4700-a682-d0380b6f5729",
     "showTitle": false,
     "title": ""
    }
   },
   "outputs": [
    {
     "output_type": "stream",
     "name": "stdout",
     "output_type": "stream",
     "text": [
      "+-------+---+\n|   name|age|\n+-------+---+\n|Krishna| 23|\n+-------+---+\n\n"
     ]
    }
   ],
   "source": [
    "# Read avro file\n",
    "avro_df = spark.read.format(\"avro\").load('dbfs:/FileStore/my_data/avro/part-00002-tid-8069033105036580357-9b0afc37-9ee8-47be-bb7f-27f9b5db577b-160-1-c000.avro')\n",
    "avro_df.show()"
   ]
  }
 ],
 "metadata": {
  "application/vnd.databricks.v1+notebook": {
   "dashboards": [],
   "language": "python",
   "notebookMetadata": {
    "pythonIndentUnit": 4
   },
   "notebookName": "read_write_avro",
   "widgets": {}
  }
 },
 "nbformat": 4,
 "nbformat_minor": 0
}
